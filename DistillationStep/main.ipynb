{
 "cells": [
  {
   "cell_type": "markdown",
   "id": "b5d5e195",
   "metadata": {},
   "source": [
    "# Hadith Processing Workflow\n",
    "\n",
    "This notebook demonstrates how to use the hadith processing package to analyze and process hadith texts using the Together API. The workflow includes:\n",
    "\n",
    "1. Loading and setting up dependencies\n",
    "2. Configuring the API client\n",
    "3. Processing a single file\n",
    "4. Processing an entire directory\n",
    "5. Viewing and analyzing results"
   ]
  },
  {
   "cell_type": "code",
   "execution_count": 1,
   "id": "fd1017db",
   "metadata": {},
   "outputs": [],
   "source": [
    "import os\n",
    "from src import HadithProcessor\n",
    "from dotenv import load_dotenv\n",
    "\n",
    "# Load API key from environment\n",
    "load_dotenv()\n",
    "api_key = os.getenv('TOGETHER_API_KEY')\n",
    "\n",
    "if not api_key:\n",
    "    raise ValueError(\"Please set TOGETHER_API_KEY in .env file\")\n",
    "\n",
    "# Initialize processor\n",
    "processor = HadithProcessor(api_key)"
   ]
  },
  {
   "cell_type": "markdown",
   "id": "4eba8416",
   "metadata": {},
   "source": [
    "## Process a Single File\n",
    "\n",
    "Let's start by processing a single hadith file to verify everything works correctly."
   ]
  },
  {
   "cell_type": "code",
   "execution_count": null,
   "id": "77d61ea1",
   "metadata": {},
   "outputs": [],
   "source": [
    "# Define input and output paths\n",
    "DATA_DIR = \"../DATA\"\n",
    "input_file = os.path.join(DATA_DIR, \"ProcessingOutput/Sahih_bukhari/1.json\")\n",
    "output_file = os.path.join(DATA_DIR, \"DistilitionOutput/Sahih_bukhari/1.json\")\n",
    "\n",
    "# Create output directory if needed\n",
    "os.makedirs(os.path.dirname(output_file), exist_ok=True)\n",
    "\n",
    "# Process single file\n",
    "processed_count, tokens_before, tokens_after = processor.process_single_file(\n",
    "    input_file=input_file,\n",
    "    output_file=output_file\n",
    ")\n",
    "\n",
    "print(f\"Processed {processed_count} hadiths\")\n",
    "print(f\"Tokens before: {tokens_before}\")\n",
    "print(f\"Tokens after: {tokens_after}\")\n",
    "if tokens_after > 0:\n",
    "    print(f\"Reduction ratio: {tokens_before/tokens_after:.2f}x\")"
   ]
  },
  {
   "cell_type": "markdown",
   "id": "4eecbc6e",
   "metadata": {},
   "source": [
    "## Process an Entire Directory\n",
    "\n",
    "Now let's process all files in a directory. This will:\n",
    "1. Find all JSON files in the input directory\n",
    "2. Process each file and save results to output directory\n",
    "3. Print summary statistics"
   ]
  },
  {
   "cell_type": "code",
   "execution_count": null,
   "id": "2a961a3d",
   "metadata": {},
   "outputs": [],
   "source": [
    "# Define input and output directories\n",
    "input_dir = os.path.join(DATA_DIR, \"ProcessingOutput/Sahih_bukhari\")\n",
    "output_dir = os.path.join(DATA_DIR, \"DistilitionOutput/Sahih_bukhari\")\n",
    "\n",
    "# Process entire directory\n",
    "processor.process_directory(\n",
    "    input_dir=input_dir,\n",
    "    output_dir=output_dir\n",
    ")"
   ]
  },
  {
   "cell_type": "markdown",
   "id": "5063b9c1",
   "metadata": {},
   "source": [
    "## Review Results\n",
    "\n",
    "Let's look at an example of the processed output to verify the quality."
   ]
  },
  {
   "cell_type": "code",
   "execution_count": null,
   "id": "37885c38",
   "metadata": {},
   "outputs": [],
   "source": [
    "import json\n",
    "\n",
    "# Load a processed file\n",
    "with open(output_file, 'r', encoding='utf-8') as f:\n",
    "    data = json.load(f)\n",
    "\n",
    "# Show first entry's results\n",
    "example = data[0]\n",
    "print(\"Original Hadith:\")\n",
    "print(example['hadith'])\n",
    "print(\"\\nLessons Learned:\")\n",
    "print('\\n'.join(example['hadith_lessons']))\n",
    "print(\"\\nPractical Applications:\")\n",
    "print('\\n'.join(example['hadith_application']))\n",
    "print(\"\\nQuestion-Answer Pairs:\")\n",
    "for qa in example['FT_Pairs']:\n",
    "    print(f\"\\nQuestion: {qa['question']}\")\n",
    "    print(f\"Answer: {qa['answer']}\")"
   ]
  },
  {
   "cell_type": "code",
   "execution_count": null,
   "id": "10473726",
   "metadata": {},
   "outputs": [],
   "source": []
  }
 ],
 "metadata": {
  "kernelspec": {
   "display_name": "Python 3",
   "language": "python",
   "name": "python3"
  },
  "language_info": {
   "codemirror_mode": {
    "name": "ipython",
    "version": 3
   },
   "file_extension": ".py",
   "mimetype": "text/x-python",
   "name": "python",
   "nbconvert_exporter": "python",
   "pygments_lexer": "ipython3",
   "version": "3.12.10"
  }
 },
 "nbformat": 4,
 "nbformat_minor": 5
}
