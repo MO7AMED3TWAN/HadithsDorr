{
 "cells": [
  {
   "cell_type": "code",
   "execution_count": 1,
   "metadata": {},
   "outputs": [],
   "source": [
    "# Import required modules\n",
    "# استيراد الوحدات المطلوبة\n",
    "import sys\n",
    "sys.path.append('src')\n",
    "\n",
    "from src.server_manager import ServerManager\n",
    "from src.data_manager import DataManager\n",
    "from src.hadith_crawler import HadithCrawler"
   ]
  },
  {
   "cell_type": "markdown",
   "metadata": {},
   "source": [
    "## Initialize Components\n",
    "## تهيئة المكونات\n",
    "\n",
    "First, we need to initialize our components with the appropriate configuration.\n",
    "- Server Manager: Needs the path to the API server\n",
    "- Data Manager: Needs the directory for storing data\n",
    "- Hadith Crawler: Combines both managers and adds crawling configuration\n",
    "\n",
    "أولاً، نحتاج إلى تهيئة مكوناتنا مع الإعدادات المناسبة.\n",
    "- مدير الخادم: يحتاج إلى مسار خادم API\n",
    "- مدير البيانات: يحتاج إلى مجلد لتخزين البيانات\n",
    "- زاحف الأحاديث: يجمع بين المديرين ويضيف إعدادات الزحف"
   ]
  },
  {
   "cell_type": "code",
   "execution_count": 2,
   "metadata": {},
   "outputs": [],
   "source": [
    "# Initialize server manager\n",
    "# تهيئة مدير الخادم\n",
    "server_manager = ServerManager(\n",
    "    server_path=\"dorar-hadith-api\",  # Path to the API server\n",
    "    port=5000  # Default port\n",
    ")\n",
    "\n",
    "# Initialize data manager\n",
    "# تهيئة مدير البيانات\n",
    "data_manager = DataManager(\n",
    "    data_dir=\".\"  # Current directory for data files\n",
    ")\n",
    "\n",
    "# Initialize hadith crawler\n",
    "# تهيئة زاحف الأحاديث\n",
    "crawler = HadithCrawler(\n",
    "    server_manager=server_manager,\n",
    "    data_manager=data_manager,\n",
    "    max_id=88430,  # Maximum hadith ID to process\n",
    "    batch_size=70  # Number of requests before server restart\n",
    ")"
   ]
  },
  {
   "cell_type": "markdown",
   "metadata": {},
   "source": [
    "## Start Crawling Process\n",
    "## بدء عملية الزحف\n",
    "\n",
    "Now we can start the crawling process. The crawler will:\n",
    "- Automatically manage the server\n",
    "- Save progress regularly\n",
    "- Handle errors and retries\n",
    "- Show progress with a progress bar\n",
    "\n",
    "الآن يمكننا بدء عملية الزحف. سيقوم الزاحف بـ:\n",
    "- إدارة الخادم تلقائياً\n",
    "- حفظ التقدم بشكل منتظم\n",
    "- معالجة الأخطاء والمحاولات\n",
    "- عرض التقدم مع شريط التقدم"
   ]
  },
  {
   "cell_type": "code",
   "execution_count": 4,
   "metadata": {},
   "outputs": [
    {
     "name": "stdout",
     "output_type": "stream",
     "text": [
      "Starting process from hadith ID: 866\n",
      "Number of previously saved explanations: 0\n",
      "Number of recorded successful hadiths: 0\n"
     ]
    },
    {
     "name": "stderr",
     "output_type": "stream",
     "text": [
      "Processing hadiths:   0%|          | 11/87565 [00:03<8:20:36,  2.91it/s, Found=0, Skipped=0, Failed=11, Current=876]"
     ]
    },
    {
     "name": "stdout",
     "output_type": "stream",
     "text": [
      "\n",
      "\n",
      "⚠️ Program stopped manually.\n",
      "⚠️ تم إيقاف البرنامج يدوياً.\n",
      "\n",
      "✓ Data has already been saved automatically.\n",
      "✓ تم حفظ البيانات تلقائياً.\n",
      "\n",
      "✅ Last processed hadith ID: 865\n",
      "✅ آخر معرف حديث تمت معالجته: 865\n",
      "\n",
      "✅ Number of saved explanations: 0\n",
      "✅ عدد الشروحات المحفوظة: 0\n"
     ]
    },
    {
     "name": "stderr",
     "output_type": "stream",
     "text": [
      "\n"
     ]
    }
   ],
   "source": [
    "try:\n",
    "    # Start crawling\n",
    "    # بدء الزحف\n",
    "    crawler.crawl_hadith_explanations()\n",
    "except KeyboardInterrupt:\n",
    "    print(\"\\n\\n⚠️ Program stopped manually.\")\n",
    "    print(\"⚠️ تم إيقاف البرنامج يدوياً.\")\n",
    "    print(\"\\n✓ Data has already been saved automatically.\")\n",
    "    print(\"✓ تم حفظ البيانات تلقائياً.\")\n",
    "    print(f\"\\n✅ Last processed hadith ID: {data_manager.load_last_id()}\")\n",
    "    print(f\"✅ آخر معرف حديث تمت معالجته: {data_manager.load_last_id()}\")\n",
    "    print(f\"\\n✅ Number of saved explanations: {len(data_manager.load_existing_data())}\")\n",
    "    print(f\"✅ عدد الشروحات المحفوظة: {len(data_manager.load_existing_data())}\")"
   ]
  },
  {
   "cell_type": "code",
   "execution_count": null,
   "metadata": {},
   "outputs": [],
   "source": []
  }
 ],
 "metadata": {
  "kernelspec": {
   "display_name": "Python 3",
   "language": "python",
   "name": "python3"
  },
  "language_info": {
   "codemirror_mode": {
    "name": "ipython",
    "version": 3
   },
   "file_extension": ".py",
   "mimetype": "text/x-python",
   "name": "python",
   "nbconvert_exporter": "python",
   "pygments_lexer": "ipython3",
   "version": "3.12.10"
  }
 },
 "nbformat": 4,
 "nbformat_minor": 2
}
