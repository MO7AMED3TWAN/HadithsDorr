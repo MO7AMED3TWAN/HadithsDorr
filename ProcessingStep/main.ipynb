{
 "cells": [
  {
   "cell_type": "code",
   "execution_count": 12,
   "id": "d02a6075",
   "metadata": {},
   "outputs": [],
   "source": [
    "import os\n",
    "from src.filter import filter_hadiths\n",
    "from src.cleaner import clean_hadiths\n",
    "from src.splitter import save_as_individual_cards"
   ]
  },
  {
   "cell_type": "code",
   "execution_count": 13,
   "id": "e95bdcca",
   "metadata": {},
   "outputs": [],
   "source": [
    "def process_hadith_book(input_path: str, book_name: str, output_dir: str):\n",
    "    \"\"\"\n",
    "    Complete processing pipeline for a hadith book\n",
    "    \n",
    "    1. Filter by book name\n",
    "    2. Clean the hadiths\n",
    "    3. Save as individual cards\n",
    "    \n",
    "    Args:\n",
    "        input_path: Path to input JSON file\n",
    "        book_name: Name of book to process\n",
    "        output_dir: Output directory for cards\n",
    "    \"\"\"\n",
    "    # Step 1: Filter\n",
    "    print(f\"\\nStarting processing for book: {book_name}\")\n",
    "    filtered = filter_hadiths(input_path, book_name)\n",
    "    \n",
    "    # Step 2: Clean\n",
    "    cleaned = clean_hadiths(filtered)\n",
    "    \n",
    "    # Step 3: Split into cards\n",
    "    cards_dir = save_as_individual_cards(cleaned, output_dir)\n",
    "    \n",
    "    print(f\"\\nFinished processing {len(cleaned)} hadiths from {book_name}\")\n",
    "    print(f\"Cards saved in: {os.path.abspath(cards_dir)}\")"
   ]
  },
  {
   "cell_type": "markdown",
   "id": "84a7bc93",
   "metadata": {},
   "source": [
    "### Sahih Bukhari"
   ]
  },
  {
   "cell_type": "code",
   "execution_count": null,
   "id": "d21c4060",
   "metadata": {},
   "outputs": [],
   "source": [
    "# Configuration\n",
    "INPUT_FILE = \"../DATA/ScrappingOutput/Sample_Hadiths.json\"\n",
    "BOOK_NAME = \"صحيح البخاري\"  # Change this to process different books\n",
    "OUTPUT_DIR = os.path.join(\"../DATA/ProcessingOutput/\", f\"{BOOK_NAME}\")\n",
    "\n",
    "\n",
    "# Run the processing\n",
    "process_hadith_book(INPUT_FILE, BOOK_NAME, OUTPUT_DIR)"
   ]
  },
  {
   "cell_type": "markdown",
   "id": "6592064f",
   "metadata": {},
   "source": [
    "### Sahih Muslim"
   ]
  },
  {
   "cell_type": "code",
   "execution_count": null,
   "id": "ffb65a5f",
   "metadata": {},
   "outputs": [],
   "source": [
    "# Configuration\n",
    "INPUT_FILE = \"../DATA/ScrappingOutput/Sample_Hadiths.json\"\n",
    "BOOK_NAME = \"صحيح مسلم\"\n",
    "OUTPUT_DIR = os.path.join(\"../DATA/ProcessingOutput/\", f\"{BOOK_NAME}\")\n",
    "\n",
    "\n",
    "# Run the processing\n",
    "process_hadith_book(INPUT_FILE, BOOK_NAME, OUTPUT_DIR)"
   ]
  },
  {
   "cell_type": "markdown",
   "id": "b2958791",
   "metadata": {},
   "source": [
    "### Other Books"
   ]
  },
  {
   "cell_type": "code",
   "execution_count": null,
   "id": "8b0c0da2",
   "metadata": {},
   "outputs": [],
   "source": [
    "# Configuration\n",
    "INPUT_FILE = \"../DATA/ScrappingOutput/Sample_Hadiths.json\"\n",
    "BOOK_NAME = \"صحيح أبي داود\"\n",
    "OUTPUT_DIR = os.path.join(\"../DATA/ProcessingOutput/\", f\"{BOOK_NAME}\")\n",
    "\n",
    "\n",
    "# Run the processing\n",
    "process_hadith_book(INPUT_FILE, BOOK_NAME, OUTPUT_DIR)"
   ]
  },
  {
   "cell_type": "code",
   "execution_count": null,
   "id": "df4e3f25",
   "metadata": {},
   "outputs": [],
   "source": []
  }
 ],
 "metadata": {
  "kernelspec": {
   "display_name": "Python 3",
   "language": "python",
   "name": "python3"
  },
  "language_info": {
   "name": "python",
   "version": "3.12.10"
  }
 },
 "nbformat": 4,
 "nbformat_minor": 5
}
