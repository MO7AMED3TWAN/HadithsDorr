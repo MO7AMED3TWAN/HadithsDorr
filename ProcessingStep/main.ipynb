{
 "cells": [
  {
   "cell_type": "code",
   "execution_count": 12,
   "id": "d02a6075",
   "metadata": {},
   "outputs": [],
   "source": [
    "import os\n",
    "from src.filter import filter_hadiths\n",
    "from src.cleaner import clean_hadiths\n",
    "from src.splitter import save_as_individual_cards"
   ]
  },
  {
   "cell_type": "code",
   "execution_count": 13,
   "id": "e95bdcca",
   "metadata": {},
   "outputs": [],
   "source": [
    "def process_hadith_book(input_path: str, book_name: str, output_dir: str):\n",
    "    \"\"\"\n",
    "    Complete processing pipeline for a hadith book\n",
    "    \n",
    "    1. Filter by book name\n",
    "    2. Clean the hadiths\n",
    "    3. Save as individual cards\n",
    "    \n",
    "    Args:\n",
    "        input_path: Path to input JSON file\n",
    "        book_name: Name of book to process\n",
    "        output_dir: Output directory for cards\n",
    "    \"\"\"\n",
    "    # Step 1: Filter\n",
    "    print(f\"\\nStarting processing for book: {book_name}\")\n",
    "    filtered = filter_hadiths(input_path, book_name)\n",
    "    \n",
    "    # Step 2: Clean\n",
    "    cleaned = clean_hadiths(filtered)\n",
    "    \n",
    "    # Step 3: Split into cards\n",
    "    cards_dir = save_as_individual_cards(cleaned, output_dir)\n",
    "    \n",
    "    print(f\"\\nFinished processing {len(cleaned)} hadiths from {book_name}\")\n",
    "    print(f\"Cards saved in: {os.path.abspath(cards_dir)}\")"
   ]
  },
  {
   "cell_type": "markdown",
   "id": "84a7bc93",
   "metadata": {},
   "source": [
    "### Sahih Bukhari"
   ]
  },
  {
   "cell_type": "code",
   "execution_count": 14,
   "id": "d21c4060",
   "metadata": {},
   "outputs": [
    {
     "name": "stdout",
     "output_type": "stream",
     "text": [
      "\n",
      "Starting processing for book: صحيح البخاري\n",
      "Filtered 4 hadiths for book: صحيح البخاري\n"
     ]
    },
    {
     "name": "stderr",
     "output_type": "stream",
     "text": [
      "Cleaning hadiths: 100%|██████████| 4/4 [00:00<00:00, 24070.61it/s]\n"
     ]
    },
    {
     "name": "stdout",
     "output_type": "stream",
     "text": [
      "Cleaned 4 hadiths\n"
     ]
    },
    {
     "name": "stderr",
     "output_type": "stream",
     "text": [
      "Creating cards: 100%|██████████| 4/4 [00:00<00:00, 3400.33it/s]"
     ]
    },
    {
     "name": "stdout",
     "output_type": "stream",
     "text": [
      "Created 4 hadith cards in ../DATA/ProcessingOutput/صحيح البخاري\n",
      "\n",
      "Finished processing 4 hadiths from صحيح البخاري\n",
      "Cards saved in: /home/mohamed/Desktop/GITHUP/HadithsDorr/DATA/ProcessingOutput/صحيح البخاري\n"
     ]
    },
    {
     "name": "stderr",
     "output_type": "stream",
     "text": [
      "\n"
     ]
    }
   ],
   "source": [
    "# Configuration\n",
    "INPUT_FILE = \"../DATA/ScrappingOutput/Sample_Hadiths.json\"\n",
    "BOOK_NAME = \"صحيح البخاري\"  # Change this to process different books\n",
    "OUTPUT_DIR = os.path.join(\"../DATA/ProcessingOutput/\", f\"{BOOK_NAME}\")\n",
    "\n",
    "\n",
    "# Run the processing\n",
    "process_hadith_book(INPUT_FILE, BOOK_NAME, OUTPUT_DIR)"
   ]
  },
  {
   "cell_type": "markdown",
   "id": "6592064f",
   "metadata": {},
   "source": [
    "### Sahih Muslim"
   ]
  },
  {
   "cell_type": "code",
   "execution_count": 15,
   "id": "ffb65a5f",
   "metadata": {},
   "outputs": [
    {
     "name": "stdout",
     "output_type": "stream",
     "text": [
      "\n",
      "Starting processing for book: صحيح مسلم\n",
      "Filtered 4 hadiths for book: صحيح مسلم\n"
     ]
    },
    {
     "name": "stderr",
     "output_type": "stream",
     "text": [
      "Cleaning hadiths: 100%|██████████| 4/4 [00:00<00:00, 22162.77it/s]\n"
     ]
    },
    {
     "name": "stdout",
     "output_type": "stream",
     "text": [
      "Cleaned 4 hadiths\n"
     ]
    },
    {
     "name": "stderr",
     "output_type": "stream",
     "text": [
      "Creating cards: 100%|██████████| 4/4 [00:00<00:00, 1800.32it/s]"
     ]
    },
    {
     "name": "stdout",
     "output_type": "stream",
     "text": [
      "Created 4 hadith cards in ../DATA/ProcessingOutput/صحيح مسلم\n",
      "\n",
      "Finished processing 4 hadiths from صحيح مسلم\n",
      "Cards saved in: /home/mohamed/Desktop/GITHUP/HadithsDorr/DATA/ProcessingOutput/صحيح مسلم\n"
     ]
    },
    {
     "name": "stderr",
     "output_type": "stream",
     "text": [
      "\n"
     ]
    }
   ],
   "source": [
    "# Configuration\n",
    "INPUT_FILE = \"../DATA/ScrappingOutput/Sample_Hadiths.json\"\n",
    "BOOK_NAME = \"صحيح مسلم\"\n",
    "OUTPUT_DIR = os.path.join(\"../DATA/ProcessingOutput/\", f\"{BOOK_NAME}\")\n",
    "\n",
    "\n",
    "# Run the processing\n",
    "process_hadith_book(INPUT_FILE, BOOK_NAME, OUTPUT_DIR)"
   ]
  },
  {
   "cell_type": "markdown",
   "id": "b2958791",
   "metadata": {},
   "source": [
    "### Other Books"
   ]
  },
  {
   "cell_type": "code",
   "execution_count": 16,
   "id": "8b0c0da2",
   "metadata": {},
   "outputs": [
    {
     "name": "stdout",
     "output_type": "stream",
     "text": [
      "\n",
      "Starting processing for book: صحيح أبي داود\n",
      "Filtered 1 hadiths for book: صحيح أبي داود\n"
     ]
    },
    {
     "name": "stderr",
     "output_type": "stream",
     "text": [
      "Cleaning hadiths: 100%|██████████| 1/1 [00:00<00:00, 7626.01it/s]\n"
     ]
    },
    {
     "name": "stdout",
     "output_type": "stream",
     "text": [
      "Cleaned 1 hadiths\n"
     ]
    },
    {
     "name": "stderr",
     "output_type": "stream",
     "text": [
      "Creating cards: 100%|██████████| 1/1 [00:00<00:00, 2084.64it/s]"
     ]
    },
    {
     "name": "stdout",
     "output_type": "stream",
     "text": [
      "Created 1 hadith cards in ../DATA/ProcessingOutput/صحيح أبي داود\n",
      "\n",
      "Finished processing 1 hadiths from صحيح أبي داود\n",
      "Cards saved in: /home/mohamed/Desktop/GITHUP/HadithsDorr/DATA/ProcessingOutput/صحيح أبي داود\n"
     ]
    },
    {
     "name": "stderr",
     "output_type": "stream",
     "text": [
      "\n"
     ]
    }
   ],
   "source": [
    "# Configuration\n",
    "INPUT_FILE = \"../DATA/ScrappingOutput/Sample_Hadiths.json\"\n",
    "BOOK_NAME = \"صحيح أبي داود\"\n",
    "OUTPUT_DIR = os.path.join(\"../DATA/ProcessingOutput/\", f\"{BOOK_NAME}\")\n",
    "\n",
    "\n",
    "# Run the processing\n",
    "process_hadith_book(INPUT_FILE, BOOK_NAME, OUTPUT_DIR)"
   ]
  },
  {
   "cell_type": "code",
   "execution_count": null,
   "id": "df4e3f25",
   "metadata": {},
   "outputs": [],
   "source": []
  }
 ],
 "metadata": {
  "language_info": {
   "name": "python"
  }
 },
 "nbformat": 4,
 "nbformat_minor": 5
}
